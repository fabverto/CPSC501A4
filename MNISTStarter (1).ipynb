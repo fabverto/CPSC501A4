{
  "nbformat": 4,
  "nbformat_minor": 0,
  "metadata": {
    "colab": {
      "name": "MNISTStarter.ipynb",
      "provenance": [],
      "collapsed_sections": []
    },
    "kernelspec": {
      "name": "python3",
      "display_name": "Python 3"
    }
  },
  "cells": [
    {
      "cell_type": "code",
      "metadata": {
        "id": "m4eZDEIAx0aH",
        "colab_type": "code",
        "colab": {
          "base_uri": "https://localhost:8080/",
          "height": 34
        },
        "outputId": "4e322cb0-fbca-4c3c-d081-55a5023346d2"
      },
      "source": [
        "try:\n",
        "  # %tensorflow_version only exists in Colab.\n",
        "  %tensorflow_version 2.x\n",
        "except Exception:\n",
        "  pass"
      ],
      "execution_count": 1,
      "outputs": [
        {
          "output_type": "stream",
          "text": [
            "TensorFlow 2.x selected.\n"
          ],
          "name": "stdout"
        }
      ]
    },
    {
      "cell_type": "code",
      "metadata": {
        "colab_type": "code",
        "outputId": "1d113bc9-07b1-4eb5-edb3-a62ec37ce103",
        "id": "a4jipUeMKZpN",
        "colab": {
          "base_uri": "https://localhost:8080/",
          "height": 1000
        }
      },
      "source": [
        "\n",
        "model.add(tf.keras.layers.Dense(128, activation=tf.nn.relu))model.compile(optimizer='adam', loss='sparse_categorical_crossentropy', metrics=['accuracy'])model.add(tf.keras.layers.Dense(10, activation=tf.nn.softmax))\n",
        "model.add(tf.keras.layers.Flatten)\n",
        "m2del.add(tf.keras.layers\n",
        ".Dense(128x_testaty_testnn.sigmoid))\n",
        "model.add(tf.keras.layers.Flatten())\n",
        "model.add(tf.keras.laye\n",
        "print(\"--Fit model--\")\n",
        "model.fit(x_train, y_train, epochs=14, verbose=2)\n",
        "rs.Dense(128, activation=tf.nn.r128))\n"
      ],
      "execution_count": 6,
      "outputs": [
        {
          "output_type": "stream",
          "text": [
            "--Get data--\n",
            "--Process data--\n",
            "--Make model--\n",
            "--Fit model--\n",
            "Train on 60000 samples\n",
            "Epoch 1/14\n",
            "60000/60000 - 5s - loss: 0.2677 - acc: 0.9207\n",
            "Epoch 2/14\n",
            "60000/60000 - 5s - loss: 0.1170 - acc: 0.9653\n",
            "Epoch 3/14\n",
            "60000/60000 - 5s - loss: 0.0833 - acc: 0.9745\n",
            "Epoch 4/14\n",
            "60000/60000 - 5s - loss: 0.0632 - acc: 0.9808\n",
            "Epoch 5/14\n",
            "60000/60000 - 5s - loss: 0.0520 - acc: 0.9835\n",
            "Epoch 6/14\n",
            "60000/60000 - 5s - loss: 0.0441 - acc: 0.9866\n",
            "Epoch 7/14\n",
            "60000/60000 - 5s - loss: 0.0368 - acc: 0.9882\n",
            "Epoch 8/14\n",
            "60000/60000 - 5s - loss: 0.0329 - acc: 0.9898\n",
            "Epoch 9/14\n",
            "60000/60000 - 5s - loss: 0.0280 - acc: 0.9912\n",
            "Epoch 10/14\n",
            "60000/60000 - 5s - loss: 0.0268 - acc: 0.9914\n",
            "Epoch 11/14\n",
            "60000/60000 - 5s - loss: 0.0239 - acc: 0.9925\n",
            "Epoch 12/14\n",
            "60000/60000 - 5s - loss: 0.0218 - acc: 0.9934\n",
            "Epoch 13/14\n",
            "60000/60000 - 5s - loss: 0.0195 - acc: 0.9939\n",
            "Epoch 14/14\n",
            "60000/60000 - 5s - loss: 0.0166 - acc: 0.9946\n",
            "--Fit model--\n",
            "Train on 10000 samples\n",
            "Epoch 1/14\n",
            "10000/10000 - 1s - loss: 0.0910 - acc: 0.9765\n",
            "Epoch 2/14\n",
            "10000/10000 - 1s - loss: 0.0345 - acc: 0.9898\n",
            "Epoch 3/14\n",
            "10000/10000 - 1s - loss: 0.0158 - acc: 0.9943\n",
            "Epoch 4/14\n",
            "10000/10000 - 1s - loss: 0.0064 - acc: 0.9985\n",
            "Epoch 5/14\n",
            "10000/10000 - 1s - loss: 0.0056 - acc: 0.9985\n",
            "Epoch 6/14\n",
            "10000/10000 - 1s - loss: 0.0066 - acc: 0.9983\n",
            "Epoch 7/14\n",
            "10000/10000 - 1s - loss: 0.0094 - acc: 0.9976\n",
            "Epoch 8/14\n",
            "10000/10000 - 1s - loss: 0.0088 - acc: 0.9975\n",
            "Epoch 9/14\n",
            "10000/10000 - 1s - loss: 0.0176 - acc: 0.9956\n",
            "Epoch 10/14\n",
            "10000/10000 - 1s - loss: 0.0103 - acc: 0.9966\n",
            "Epoch 11/14\n",
            "10000/10000 - 1s - loss: 0.0082 - acc: 0.9975\n",
            "Epoch 12/14\n",
            "10000/10000 - 1s - loss: 0.0086 - acc: 0.9976\n",
            "Epoch 13/14\n",
            "10000/10000 - 1s - loss: 0.0070 - acc: 0.9976\n",
            "Epoch 14/14\n",
            "10000/10000 - 1s - loss: 0.0060 - acc: 0.9978\n",
            "--Evaluate model test--\n",
            "10000/10000 - 0s - loss: 0.0049 - acc: 0.9989\n",
            "Model Loss:    0.00\n",
            "Model Accuray: 99.9%\n",
            "--Evaluate model train--\n",
            "60000/60000 - 2s - loss: 0.0494 - acc: 0.9876\n",
            "Model Loss:    0.05\n",
            "Model Accuray: 98.8%\n"
          ],
          "name": "stdout"
        }
      ]
    },
    {
      "cell_type": "code",
      "metadata": {
        "colab_type": "code",
        "id": "Ja2u-D4jGlWS",
        "colab": {}
      },
      "source": [
        ""
      ],
      "execution_count": 0,
      "outputs": []
    },
    {
      "cell_type": "code",
      "metadata": {
        "id": "uqKuNbSJEaWc",
        "colab_type": "code",
        "colab": {}
      },
      "source": [
        "#Save Model to MNIST.h5"
      ],
      "execution_count": 0,
      "outputs": []
    },
    {
      "cell_type": "code",
      "metadata": {
        "id": "0Vc4ePZwERJW",
        "colab_type": "code",
        "colab": {}
      },
      "source": [
        "from google.colab import files\n",
        "files.download('MNIST.h5')"
      ],
      "execution_count": 0,
      "outputs": []
    }
  ]
}
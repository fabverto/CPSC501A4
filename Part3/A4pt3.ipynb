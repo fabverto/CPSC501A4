{
  "nbformat": 4,
  "nbformat_minor": 0,
  "metadata": {
    "colab": {
      "name": "A4pt3.ipynb",
      "provenance": []
    },
    "kernelspec": {
      "name": "python3",
      "display_name": "Python 3"
    }
  },
  "cells": [
    {
      "cell_type": "code",
      "metadata": {
        "id": "Evw60K5eUsme",
        "colab_type": "code",
        "colab": {
          "base_uri": "https://localhost:8080/",
          "height": 34
        },
        "outputId": "f1a4e2e4-1802-4fc0-d2eb-5cbaa0c16d03"
      },
      "source": [
        "try:\n",
        "  # %tensorflow_version only exists in Colab.\n",
        "  %tensorflow_version 2.x\n",
        "except Exception:\n",
        "  pass"
      ],
      "execution_count": 1,
      "outputs": [
        {
          "output_type": "stream",
          "text": [
            "TensorFlow 2.x selected.\n"
          ],
          "name": "stdout"
        }
      ]
    },
    {
      "cell_type": "code",
      "metadata": {
        "id": "K1nxUypNU_On",
        "colab_type": "code",
        "colab": {}
      },
      "source": [
        "import functools\n",
        "import pandas as pd\n",
        "from sklearn.model_selection import train_test_split\n",
        "import numpy as np\n",
        "import tensorflow as tf"
      ],
      "execution_count": 0,
      "outputs": []
    },
    {
      "cell_type": "code",
      "metadata": {
        "id": "c2svDa1Sq09c",
        "colab_type": "code",
        "colab": {}
      },
      "source": [
        "DATA_URL = \"http://pages.cpsc.ucalgary.ca/~hudsonj/CPSC501F19/heart.csv\""
      ],
      "execution_count": 0,
      "outputs": []
    },
    {
      "cell_type": "code",
      "metadata": {
        "id": "XcStlSoorWAI",
        "colab_type": "code",
        "colab": {
          "base_uri": "https://localhost:8080/",
          "height": 252
        },
        "outputId": "6546167f-098a-4da3-fe26-d84c2a6ecd61"
      },
      "source": [
        "data = pd.read_csv(DATA_URL)\n",
        "print(data.head)"
      ],
      "execution_count": 20,
      "outputs": [
        {
          "output_type": "stream",
          "text": [
            "<bound method NDFrame.head of      row.names  sbp  tobacco    ldl  ...  obesity alcohol  age  chd\n",
            "0            1  160    12.00   5.73  ...    25.30   97.20   52    1\n",
            "1            2  144     0.01   4.41  ...    28.87    2.06   63    1\n",
            "2            3  118     0.08   3.48  ...    29.14    3.81   46    0\n",
            "3            4  170     7.50   6.41  ...    31.99   24.26   58    1\n",
            "4            5  134    13.60   3.50  ...    25.99   57.34   49    1\n",
            "..         ...  ...      ...    ...  ...      ...     ...  ...  ...\n",
            "457        459  214     0.40   5.98  ...    28.45    0.00   58    0\n",
            "458        460  182     4.20   4.41  ...    28.61   18.72   52    1\n",
            "459        461  108     3.00   1.59  ...    20.09   26.64   55    0\n",
            "460        462  118     5.40  11.61  ...    27.35   23.97   40    0\n",
            "461        463  132     0.00   4.82  ...    14.70    0.00   46    1\n",
            "\n",
            "[462 rows x 11 columns]>\n"
          ],
          "name": "stdout"
        }
      ]
    },
    {
      "cell_type": "code",
      "metadata": {
        "id": "nBBbvAiirjTJ",
        "colab_type": "code",
        "colab": {
          "base_uri": "https://localhost:8080/",
          "height": 353
        },
        "outputId": "9266734f-8640-41f8-b1b9-26484d9b109f"
      },
      "source": [
        "LABEL_COLUMN = data.chd\n",
        "LABELS = data.drop('chd',axis=1)\n",
        "\n",
        "x_train, x_test, y_train, y_test = train_test_split(LABEL_COLUMN, LABELS,test_size=0.2)\n",
        "print(\"\\nx_train:\\n\")\n",
        "print(x_train.head())\n",
        "print(x_train.shape)\n",
        "\n",
        "print(\"\\nx_test:\\n\")\n",
        "print(x_test.head())\n",
        "print(x_test.shape)"
      ],
      "execution_count": 24,
      "outputs": [
        {
          "output_type": "stream",
          "text": [
            "\n",
            "x_train:\n",
            "\n",
            "40     1\n",
            "37     0\n",
            "132    1\n",
            "147    1\n",
            "275    1\n",
            "Name: chd, dtype: int64\n",
            "(369,)\n",
            "\n",
            "x_test:\n",
            "\n",
            "262    0\n",
            "447    0\n",
            "26     0\n",
            "366    0\n",
            "278    0\n",
            "Name: chd, dtype: int64\n",
            "(93,)\n"
          ],
          "name": "stdout"
        }
      ]
    }
  ]
}